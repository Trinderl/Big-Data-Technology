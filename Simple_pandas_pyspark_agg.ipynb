{
  "cells": [
    {
      "cell_type": "markdown",
      "source": [
        "# Welcome to the Colab Spark Tutorial.\n",
        "\n",
        "We will be using Spark a few times in this course, and the colab environment provides the compute (for 12 hours at a time) we need, along with this wonderful web-based notebook.\n",
        "\n",
        "Today we will be configuring PySpark and exploring the SparkSQL features in relation to the Spark API\n",
        "\n",
        "Source material includes [1]\n",
        "\n",
        "Sections:\n",
        "\n",
        "1.   Configuring your colab\n",
        "2.   Using PySpark"
      ],
      "metadata": {
        "id": "YBrOk8E5jKA_"
      }
    },
    {
      "cell_type": "markdown",
      "source": [
        "Firstly, we need to configure the _colab_ instance"
      ],
      "metadata": {
        "id": "FsIt74LsjnCP"
      }
    },
    {
      "cell_type": "code",
      "source": [
        "!lsb_release -a"
      ],
      "metadata": {
        "id": "HGA3pk5PjGzf",
        "colab": {
          "base_uri": "https://localhost:8080/"
        },
        "outputId": "829cfc35-6c88-4da5-b3b2-796bc753434d"
      },
      "execution_count": null,
      "outputs": [
        {
          "output_type": "stream",
          "name": "stdout",
          "text": [
            "No LSB modules are available.\n",
            "Distributor ID:\tUbuntu\n",
            "Description:\tUbuntu 18.04.6 LTS\n",
            "Release:\t18.04\n",
            "Codename:\tbionic\n"
          ]
        }
      ]
    },
    {
      "cell_type": "code",
      "source": [
        "!apt-get update"
      ],
      "metadata": {
        "id": "zWVKh4X6jGwY",
        "colab": {
          "base_uri": "https://localhost:8080/"
        },
        "outputId": "43c5d91a-c290-4726-8e1d-7aceb3d9b802"
      },
      "execution_count": null,
      "outputs": [
        {
          "output_type": "stream",
          "name": "stdout",
          "text": [
            "\r0% [Working]\r            \rIgn:1 https://developer.download.nvidia.com/compute/machine-learning/repos/ubuntu1804/x86_64  InRelease\n",
            "\r0% [Connecting to archive.ubuntu.com] [Connecting to security.ubuntu.com] [Conn\r                                                                               \rHit:2 https://developer.download.nvidia.com/compute/cuda/repos/ubuntu1804/x86_64  InRelease\n",
            "\r0% [Connecting to archive.ubuntu.com] [Connecting to security.ubuntu.com] [Wait\r                                                                               \rHit:3 https://cloud.r-project.org/bin/linux/ubuntu bionic-cran40/ InRelease\n",
            "Hit:4 https://developer.download.nvidia.com/compute/machine-learning/repos/ubuntu1804/x86_64  Release\n",
            "Hit:5 http://ppa.launchpad.net/c2d4u.team/c2d4u4.0+/ubuntu bionic InRelease\n",
            "Get:6 http://security.ubuntu.com/ubuntu bionic-security InRelease [88.7 kB]\n",
            "Hit:7 http://archive.ubuntu.com/ubuntu bionic InRelease\n",
            "Get:8 http://archive.ubuntu.com/ubuntu bionic-updates InRelease [88.7 kB]\n",
            "Hit:10 http://ppa.launchpad.net/cran/libgit2/ubuntu bionic InRelease\n",
            "Hit:11 http://ppa.launchpad.net/deadsnakes/ppa/ubuntu bionic InRelease\n",
            "Get:12 http://archive.ubuntu.com/ubuntu bionic-backports InRelease [74.6 kB]\n",
            "Hit:13 http://ppa.launchpad.net/graphics-drivers/ppa/ubuntu bionic InRelease\n",
            "Fetched 252 kB in 2s (108 kB/s)\n",
            "Reading package lists... Done\n"
          ]
        }
      ]
    },
    {
      "cell_type": "code",
      "source": [
        "# Install java\n",
        "!apt-get install openjdk-8-jdk-headless -qq > /dev/null"
      ],
      "metadata": {
        "id": "3M9xqcZajGs0"
      },
      "execution_count": null,
      "outputs": []
    },
    {
      "cell_type": "code",
      "source": [
        "# get spark \n",
        "VERSION='3.2.2'\n",
        "!wget https://dlcdn.apache.org/spark/spark-$VERSION/spark-$VERSION-bin-hadoop3.2.tgz"
      ],
      "metadata": {
        "id": "v8DsMdwFjGpB",
        "colab": {
          "base_uri": "https://localhost:8080/"
        },
        "outputId": "1dea62e3-491f-426f-b424-bb2b24070b38"
      },
      "execution_count": null,
      "outputs": [
        {
          "output_type": "stream",
          "name": "stdout",
          "text": [
            "--2022-08-13 11:03:33--  https://dlcdn.apache.org/spark/spark-3.2.2/spark-3.2.2-bin-hadoop3.2.tgz\n",
            "Resolving dlcdn.apache.org (dlcdn.apache.org)... 151.101.2.132, 2a04:4e42::644\n",
            "Connecting to dlcdn.apache.org (dlcdn.apache.org)|151.101.2.132|:443... connected.\n",
            "HTTP request sent, awaiting response... 200 OK\n",
            "Length: 301112604 (287M) [application/x-gzip]\n",
            "Saving to: ‘spark-3.2.2-bin-hadoop3.2.tgz.1’\n",
            "\n",
            "spark-3.2.2-bin-had 100%[===================>] 287.16M   164MB/s    in 1.8s    \n",
            "\n",
            "2022-08-13 11:03:35 (164 MB/s) - ‘spark-3.2.2-bin-hadoop3.2.tgz.1’ saved [301112604/301112604]\n",
            "\n"
          ]
        }
      ]
    },
    {
      "cell_type": "code",
      "source": [
        "# decompress spark\n",
        "!tar xf spark-$VERSION-bin-hadoop3.2.tgz\n",
        "\n",
        "# install python package to help with system paths\n",
        "!pip install -q findspark"
      ],
      "metadata": {
        "id": "p2R_UCnwjGj0"
      },
      "execution_count": null,
      "outputs": []
    },
    {
      "cell_type": "code",
      "source": [
        "# Let Colab know where the java and spark folders are\n",
        "\n",
        "import os\n",
        "os.environ[\"JAVA_HOME\"] = \"/usr/lib/jvm/java-8-openjdk-amd64\"\n",
        "os.environ[\"SPARK_HOME\"] = f\"/content/spark-{VERSION}-bin-hadoop3.2\""
      ],
      "metadata": {
        "id": "rjD6FmZBjGej"
      },
      "execution_count": null,
      "outputs": []
    },
    {
      "cell_type": "code",
      "source": [
        "# add pyspark to sys.path using findspark\n",
        "import findspark\n",
        "findspark.init()"
      ],
      "metadata": {
        "id": "pUREA6KDjGWK"
      },
      "execution_count": null,
      "outputs": []
    },
    {
      "cell_type": "markdown",
      "metadata": {
        "id": "PnrZdsL1alEJ"
      },
      "source": [
        "# Exploring Spark with Pandas\n"
      ]
    },
    {
      "cell_type": "markdown",
      "metadata": {
        "id": "5JOya-gJalEL"
      },
      "source": [
        "Using pandas examples, convert the analysis to pyspark. This is useful if you discover your data grows too large for your tooling.\n",
        "\n",
        "The purpose of this notebook is to familiarise yourself you the pyspark API. You are welcome to use the R version of this if you wish. As long as you are able to obtain the correct results. We will be using python in this notebook as it is quite widely used through data science and the community is very large.\n",
        "\n"
      ]
    },
    {
      "cell_type": "markdown",
      "metadata": {
        "id": "qH4NiS33alEM"
      },
      "source": [
        "#### Firstly, let's get our spark session"
      ]
    },
    {
      "cell_type": "code",
      "execution_count": null,
      "metadata": {
        "id": "wIh8Hr34alEN"
      },
      "outputs": [],
      "source": [
        "from pyspark.sql import SparkSession\n",
        "import pandas as pd \n",
        "spark = SparkSession.builder.appName('panda-and-spark').getOrCreate()"
      ]
    },
    {
      "cell_type": "markdown",
      "metadata": {
        "id": "ZjvDIGMfalEO"
      },
      "source": [
        "### Overview\n",
        "\n",
        "\n",
        "* Joining two dataframes/data sets\n",
        "* Simple aggregations\n",
        "* Persisting"
      ]
    },
    {
      "cell_type": "markdown",
      "metadata": {
        "id": "5od3r7zSalEP"
      },
      "source": [
        "#### JOIN: Pandas\n",
        "\n",
        "We won't use this more in this notebook, but observe how the joins work.\n",
        "\n",
        "We what happens if you change from the default inner join to outer joins."
      ]
    },
    {
      "cell_type": "code",
      "execution_count": null,
      "metadata": {
        "id": "sSit-dCzalEP"
      },
      "outputs": [],
      "source": [
        "customer_raw = [(1, 'bob', 3462543658686),\n",
        "           (2, 'rob', 9087567565439),\n",
        "           (3, 'tim', 5436586999467),\n",
        "           (4, 'tom', 8349756853250)]\n",
        "\n",
        "customer_cols = ['id', 'name', 'credit_card_number']\n",
        "\n",
        "\n",
        "\n",
        "orders_raw = [(1, 'ketchup', 'bob', 1.20),\n",
        "           (2, 'rutabaga', 'bob', 3.35),\n",
        "           (3, 'fake vegan meat', 'rob', 13.99),\n",
        "           (4, 'cheesey poofs', 'tim', 3.99),\n",
        "           (5, 'ice cream', 'tim', 4.95),\n",
        "           (6, 'protein powder', 'tom', 49.95)]\n",
        "\n",
        "orders_cols = ['id', 'product_name', 'customer', 'price']"
      ]
    },
    {
      "cell_type": "code",
      "execution_count": null,
      "metadata": {
        "id": "Y5MOSASOalEQ",
        "colab": {
          "base_uri": "https://localhost:8080/",
          "height": 238
        },
        "outputId": "935554be-8f9f-4593-e9aa-67c2407bbbc7"
      },
      "outputs": [
        {
          "output_type": "execute_result",
          "data": {
            "text/plain": [
              "   id_x name  credit_card_number  id_y     product_name customer  price\n",
              "0     1  bob       3462543658686     1          ketchup      bob   1.20\n",
              "1     1  bob       3462543658686     2         rutabaga      bob   3.35\n",
              "2     2  rob       9087567565439     3  fake vegan meat      rob  13.99\n",
              "3     3  tim       5436586999467     4    cheesey poofs      tim   3.99\n",
              "4     3  tim       5436586999467     5        ice cream      tim   4.95\n",
              "5     4  tom       8349756853250     6   protein powder      tom  49.95"
            ],
            "text/html": [
              "\n",
              "  <div id=\"df-8331373e-9379-4999-94a7-e8f70effc5cb\">\n",
              "    <div class=\"colab-df-container\">\n",
              "      <div>\n",
              "<style scoped>\n",
              "    .dataframe tbody tr th:only-of-type {\n",
              "        vertical-align: middle;\n",
              "    }\n",
              "\n",
              "    .dataframe tbody tr th {\n",
              "        vertical-align: top;\n",
              "    }\n",
              "\n",
              "    .dataframe thead th {\n",
              "        text-align: right;\n",
              "    }\n",
              "</style>\n",
              "<table border=\"1\" class=\"dataframe\">\n",
              "  <thead>\n",
              "    <tr style=\"text-align: right;\">\n",
              "      <th></th>\n",
              "      <th>id_x</th>\n",
              "      <th>name</th>\n",
              "      <th>credit_card_number</th>\n",
              "      <th>id_y</th>\n",
              "      <th>product_name</th>\n",
              "      <th>customer</th>\n",
              "      <th>price</th>\n",
              "    </tr>\n",
              "  </thead>\n",
              "  <tbody>\n",
              "    <tr>\n",
              "      <th>0</th>\n",
              "      <td>1</td>\n",
              "      <td>bob</td>\n",
              "      <td>3462543658686</td>\n",
              "      <td>1</td>\n",
              "      <td>ketchup</td>\n",
              "      <td>bob</td>\n",
              "      <td>1.20</td>\n",
              "    </tr>\n",
              "    <tr>\n",
              "      <th>1</th>\n",
              "      <td>1</td>\n",
              "      <td>bob</td>\n",
              "      <td>3462543658686</td>\n",
              "      <td>2</td>\n",
              "      <td>rutabaga</td>\n",
              "      <td>bob</td>\n",
              "      <td>3.35</td>\n",
              "    </tr>\n",
              "    <tr>\n",
              "      <th>2</th>\n",
              "      <td>2</td>\n",
              "      <td>rob</td>\n",
              "      <td>9087567565439</td>\n",
              "      <td>3</td>\n",
              "      <td>fake vegan meat</td>\n",
              "      <td>rob</td>\n",
              "      <td>13.99</td>\n",
              "    </tr>\n",
              "    <tr>\n",
              "      <th>3</th>\n",
              "      <td>3</td>\n",
              "      <td>tim</td>\n",
              "      <td>5436586999467</td>\n",
              "      <td>4</td>\n",
              "      <td>cheesey poofs</td>\n",
              "      <td>tim</td>\n",
              "      <td>3.99</td>\n",
              "    </tr>\n",
              "    <tr>\n",
              "      <th>4</th>\n",
              "      <td>3</td>\n",
              "      <td>tim</td>\n",
              "      <td>5436586999467</td>\n",
              "      <td>5</td>\n",
              "      <td>ice cream</td>\n",
              "      <td>tim</td>\n",
              "      <td>4.95</td>\n",
              "    </tr>\n",
              "    <tr>\n",
              "      <th>5</th>\n",
              "      <td>4</td>\n",
              "      <td>tom</td>\n",
              "      <td>8349756853250</td>\n",
              "      <td>6</td>\n",
              "      <td>protein powder</td>\n",
              "      <td>tom</td>\n",
              "      <td>49.95</td>\n",
              "    </tr>\n",
              "  </tbody>\n",
              "</table>\n",
              "</div>\n",
              "      <button class=\"colab-df-convert\" onclick=\"convertToInteractive('df-8331373e-9379-4999-94a7-e8f70effc5cb')\"\n",
              "              title=\"Convert this dataframe to an interactive table.\"\n",
              "              style=\"display:none;\">\n",
              "        \n",
              "  <svg xmlns=\"http://www.w3.org/2000/svg\" height=\"24px\"viewBox=\"0 0 24 24\"\n",
              "       width=\"24px\">\n",
              "    <path d=\"M0 0h24v24H0V0z\" fill=\"none\"/>\n",
              "    <path d=\"M18.56 5.44l.94 2.06.94-2.06 2.06-.94-2.06-.94-.94-2.06-.94 2.06-2.06.94zm-11 1L8.5 8.5l.94-2.06 2.06-.94-2.06-.94L8.5 2.5l-.94 2.06-2.06.94zm10 10l.94 2.06.94-2.06 2.06-.94-2.06-.94-.94-2.06-.94 2.06-2.06.94z\"/><path d=\"M17.41 7.96l-1.37-1.37c-.4-.4-.92-.59-1.43-.59-.52 0-1.04.2-1.43.59L10.3 9.45l-7.72 7.72c-.78.78-.78 2.05 0 2.83L4 21.41c.39.39.9.59 1.41.59.51 0 1.02-.2 1.41-.59l7.78-7.78 2.81-2.81c.8-.78.8-2.07 0-2.86zM5.41 20L4 18.59l7.72-7.72 1.47 1.35L5.41 20z\"/>\n",
              "  </svg>\n",
              "      </button>\n",
              "      \n",
              "  <style>\n",
              "    .colab-df-container {\n",
              "      display:flex;\n",
              "      flex-wrap:wrap;\n",
              "      gap: 12px;\n",
              "    }\n",
              "\n",
              "    .colab-df-convert {\n",
              "      background-color: #E8F0FE;\n",
              "      border: none;\n",
              "      border-radius: 50%;\n",
              "      cursor: pointer;\n",
              "      display: none;\n",
              "      fill: #1967D2;\n",
              "      height: 32px;\n",
              "      padding: 0 0 0 0;\n",
              "      width: 32px;\n",
              "    }\n",
              "\n",
              "    .colab-df-convert:hover {\n",
              "      background-color: #E2EBFA;\n",
              "      box-shadow: 0px 1px 2px rgba(60, 64, 67, 0.3), 0px 1px 3px 1px rgba(60, 64, 67, 0.15);\n",
              "      fill: #174EA6;\n",
              "    }\n",
              "\n",
              "    [theme=dark] .colab-df-convert {\n",
              "      background-color: #3B4455;\n",
              "      fill: #D2E3FC;\n",
              "    }\n",
              "\n",
              "    [theme=dark] .colab-df-convert:hover {\n",
              "      background-color: #434B5C;\n",
              "      box-shadow: 0px 1px 3px 1px rgba(0, 0, 0, 0.15);\n",
              "      filter: drop-shadow(0px 1px 2px rgba(0, 0, 0, 0.3));\n",
              "      fill: #FFFFFF;\n",
              "    }\n",
              "  </style>\n",
              "\n",
              "      <script>\n",
              "        const buttonEl =\n",
              "          document.querySelector('#df-8331373e-9379-4999-94a7-e8f70effc5cb button.colab-df-convert');\n",
              "        buttonEl.style.display =\n",
              "          google.colab.kernel.accessAllowed ? 'block' : 'none';\n",
              "\n",
              "        async function convertToInteractive(key) {\n",
              "          const element = document.querySelector('#df-8331373e-9379-4999-94a7-e8f70effc5cb');\n",
              "          const dataTable =\n",
              "            await google.colab.kernel.invokeFunction('convertToInteractive',\n",
              "                                                     [key], {});\n",
              "          if (!dataTable) return;\n",
              "\n",
              "          const docLinkHtml = 'Like what you see? Visit the ' +\n",
              "            '<a target=\"_blank\" href=https://colab.research.google.com/notebooks/data_table.ipynb>data table notebook</a>'\n",
              "            + ' to learn more about interactive tables.';\n",
              "          element.innerHTML = '';\n",
              "          dataTable['output_type'] = 'display_data';\n",
              "          await google.colab.output.renderOutput(dataTable, element);\n",
              "          const docLink = document.createElement('div');\n",
              "          docLink.innerHTML = docLinkHtml;\n",
              "          element.appendChild(docLink);\n",
              "        }\n",
              "      </script>\n",
              "    </div>\n",
              "  </div>\n",
              "  "
            ]
          },
          "metadata": {},
          "execution_count": 10
        }
      ],
      "source": [
        "customer_df = pd.DataFrame(customer_raw, columns=customer_cols)\n",
        "orders_df = pd.DataFrame(orders_raw, columns=orders_cols)\n",
        "\n",
        "customer_df\n",
        "\n",
        "joined_df = pd.merge(customer_df, orders_df, how='inner', left_on='name', right_on='customer')\n",
        "joined_df\n",
        "\n",
        "## For self study. What happens if (4, 'tom', 8349756853250) in valuesA becomes (4, 'tod', 8349756853250)\n",
        "## How do the results change?\n",
        "## More sensibly; what if customers have not made any orders but we still require them in the result set? "
      ]
    },
    {
      "cell_type": "markdown",
      "metadata": {
        "id": "ccPAhY32alER"
      },
      "source": [
        "#### JOIN: Spark"
      ]
    },
    {
      "cell_type": "code",
      "execution_count": null,
      "metadata": {
        "id": "2tjUQs8yalER",
        "colab": {
          "base_uri": "https://localhost:8080/"
        },
        "outputId": "f5e8e082-c169-4c0e-c8dd-38a1edb90757"
      },
      "outputs": [
        {
          "output_type": "stream",
          "name": "stdout",
          "text": [
            "+---+----+------------------+\n",
            "| id|name|credit_card_number|\n",
            "+---+----+------------------+\n",
            "|  1| bob|     3462543658686|\n",
            "|  2| rob|     9087567565439|\n",
            "|  3| tim|     5436586999467|\n",
            "|  4| tom|     8349756853250|\n",
            "+---+----+------------------+\n",
            "\n",
            "+---+---------------+--------+-----+\n",
            "| id|   product_name|customer|price|\n",
            "+---+---------------+--------+-----+\n",
            "|  1|        ketchup|     bob|  1.2|\n",
            "|  2|       rutabaga|     bob| 3.35|\n",
            "|  3|fake vegan meat|     rob|13.99|\n",
            "|  4|  cheesey poofs|     tim| 3.99|\n",
            "|  5|      ice cream|     tim| 4.95|\n",
            "|  6| protein powder|     tom|49.95|\n",
            "+---+---------------+--------+-----+\n",
            "\n"
          ]
        }
      ],
      "source": [
        "customersDF = spark.createDataFrame(customer_raw, customer_cols)\n",
        "\n",
        "ordersDF = spark.createDataFrame(orders_raw, orders_cols)\n",
        "\n",
        "# Show tables\n",
        "customersDF.show()\n",
        "ordersDF.show()"
      ]
    },
    {
      "cell_type": "code",
      "execution_count": null,
      "metadata": {
        "id": "CYhl0V3palES",
        "colab": {
          "base_uri": "https://localhost:8080/"
        },
        "outputId": "147be0af-5e15-4982-8676-8ac159c45a45"
      },
      "outputs": [
        {
          "output_type": "stream",
          "name": "stdout",
          "text": [
            "+---+----+------------------+---+---------------+--------+-----+\n",
            "| id|name|credit_card_number| id|   product_name|customer|price|\n",
            "+---+----+------------------+---+---------------+--------+-----+\n",
            "|  1| bob|     3462543658686|  1|        ketchup|     bob|  1.2|\n",
            "|  1| bob|     3462543658686|  2|       rutabaga|     bob| 3.35|\n",
            "|  2| rob|     9087567565439|  3|fake vegan meat|     rob|13.99|\n",
            "|  3| tim|     5436586999467|  4|  cheesey poofs|     tim| 3.99|\n",
            "|  3| tim|     5436586999467|  5|      ice cream|     tim| 4.95|\n",
            "|  4| tom|     8349756853250|  6| protein powder|     tom|49.95|\n",
            "+---+----+------------------+---+---------------+--------+-----+\n",
            "\n"
          ]
        }
      ],
      "source": [
        "joinedDF = customersDF.join(ordersDF, customersDF.name == ordersDF.customer)\n",
        "joinedDF.show()"
      ]
    },
    {
      "cell_type": "markdown",
      "metadata": {
        "id": "vQlDr9gYalES"
      },
      "source": [
        "## Simple Aggregations\n",
        "\n",
        "Now let's explore simple aggregations. You will be using these often when doing exploratory work in big data. Remember, the intention here is that you grow familiar with the way the API works, and how to translate inquiries into that API."
      ]
    },
    {
      "cell_type": "markdown",
      "metadata": {
        "id": "RumsKDwfalET"
      },
      "source": [
        "> _How much did each person spend?_"
      ]
    },
    {
      "cell_type": "code",
      "execution_count": null,
      "metadata": {
        "id": "2BP7ZwNualET",
        "colab": {
          "base_uri": "https://localhost:8080/",
          "height": 238
        },
        "outputId": "0f0599ed-050c-496f-a1e6-16f28cd4ef35"
      },
      "outputs": [
        {
          "output_type": "execute_result",
          "data": {
            "text/plain": [
              "      price\n",
              "        sum\n",
              "name       \n",
              "bob    4.55\n",
              "rob   13.99\n",
              "tim    8.94\n",
              "tom   49.95"
            ],
            "text/html": [
              "\n",
              "  <div id=\"df-9e1736bf-1038-4004-a501-a4793f1b4dbf\">\n",
              "    <div class=\"colab-df-container\">\n",
              "      <div>\n",
              "<style scoped>\n",
              "    .dataframe tbody tr th:only-of-type {\n",
              "        vertical-align: middle;\n",
              "    }\n",
              "\n",
              "    .dataframe tbody tr th {\n",
              "        vertical-align: top;\n",
              "    }\n",
              "\n",
              "    .dataframe thead tr th {\n",
              "        text-align: left;\n",
              "    }\n",
              "\n",
              "    .dataframe thead tr:last-of-type th {\n",
              "        text-align: right;\n",
              "    }\n",
              "</style>\n",
              "<table border=\"1\" class=\"dataframe\">\n",
              "  <thead>\n",
              "    <tr>\n",
              "      <th></th>\n",
              "      <th>price</th>\n",
              "    </tr>\n",
              "    <tr>\n",
              "      <th></th>\n",
              "      <th>sum</th>\n",
              "    </tr>\n",
              "    <tr>\n",
              "      <th>name</th>\n",
              "      <th></th>\n",
              "    </tr>\n",
              "  </thead>\n",
              "  <tbody>\n",
              "    <tr>\n",
              "      <th>bob</th>\n",
              "      <td>4.55</td>\n",
              "    </tr>\n",
              "    <tr>\n",
              "      <th>rob</th>\n",
              "      <td>13.99</td>\n",
              "    </tr>\n",
              "    <tr>\n",
              "      <th>tim</th>\n",
              "      <td>8.94</td>\n",
              "    </tr>\n",
              "    <tr>\n",
              "      <th>tom</th>\n",
              "      <td>49.95</td>\n",
              "    </tr>\n",
              "  </tbody>\n",
              "</table>\n",
              "</div>\n",
              "      <button class=\"colab-df-convert\" onclick=\"convertToInteractive('df-9e1736bf-1038-4004-a501-a4793f1b4dbf')\"\n",
              "              title=\"Convert this dataframe to an interactive table.\"\n",
              "              style=\"display:none;\">\n",
              "        \n",
              "  <svg xmlns=\"http://www.w3.org/2000/svg\" height=\"24px\"viewBox=\"0 0 24 24\"\n",
              "       width=\"24px\">\n",
              "    <path d=\"M0 0h24v24H0V0z\" fill=\"none\"/>\n",
              "    <path d=\"M18.56 5.44l.94 2.06.94-2.06 2.06-.94-2.06-.94-.94-2.06-.94 2.06-2.06.94zm-11 1L8.5 8.5l.94-2.06 2.06-.94-2.06-.94L8.5 2.5l-.94 2.06-2.06.94zm10 10l.94 2.06.94-2.06 2.06-.94-2.06-.94-.94-2.06-.94 2.06-2.06.94z\"/><path d=\"M17.41 7.96l-1.37-1.37c-.4-.4-.92-.59-1.43-.59-.52 0-1.04.2-1.43.59L10.3 9.45l-7.72 7.72c-.78.78-.78 2.05 0 2.83L4 21.41c.39.39.9.59 1.41.59.51 0 1.02-.2 1.41-.59l7.78-7.78 2.81-2.81c.8-.78.8-2.07 0-2.86zM5.41 20L4 18.59l7.72-7.72 1.47 1.35L5.41 20z\"/>\n",
              "  </svg>\n",
              "      </button>\n",
              "      \n",
              "  <style>\n",
              "    .colab-df-container {\n",
              "      display:flex;\n",
              "      flex-wrap:wrap;\n",
              "      gap: 12px;\n",
              "    }\n",
              "\n",
              "    .colab-df-convert {\n",
              "      background-color: #E8F0FE;\n",
              "      border: none;\n",
              "      border-radius: 50%;\n",
              "      cursor: pointer;\n",
              "      display: none;\n",
              "      fill: #1967D2;\n",
              "      height: 32px;\n",
              "      padding: 0 0 0 0;\n",
              "      width: 32px;\n",
              "    }\n",
              "\n",
              "    .colab-df-convert:hover {\n",
              "      background-color: #E2EBFA;\n",
              "      box-shadow: 0px 1px 2px rgba(60, 64, 67, 0.3), 0px 1px 3px 1px rgba(60, 64, 67, 0.15);\n",
              "      fill: #174EA6;\n",
              "    }\n",
              "\n",
              "    [theme=dark] .colab-df-convert {\n",
              "      background-color: #3B4455;\n",
              "      fill: #D2E3FC;\n",
              "    }\n",
              "\n",
              "    [theme=dark] .colab-df-convert:hover {\n",
              "      background-color: #434B5C;\n",
              "      box-shadow: 0px 1px 3px 1px rgba(0, 0, 0, 0.15);\n",
              "      filter: drop-shadow(0px 1px 2px rgba(0, 0, 0, 0.3));\n",
              "      fill: #FFFFFF;\n",
              "    }\n",
              "  </style>\n",
              "\n",
              "      <script>\n",
              "        const buttonEl =\n",
              "          document.querySelector('#df-9e1736bf-1038-4004-a501-a4793f1b4dbf button.colab-df-convert');\n",
              "        buttonEl.style.display =\n",
              "          google.colab.kernel.accessAllowed ? 'block' : 'none';\n",
              "\n",
              "        async function convertToInteractive(key) {\n",
              "          const element = document.querySelector('#df-9e1736bf-1038-4004-a501-a4793f1b4dbf');\n",
              "          const dataTable =\n",
              "            await google.colab.kernel.invokeFunction('convertToInteractive',\n",
              "                                                     [key], {});\n",
              "          if (!dataTable) return;\n",
              "\n",
              "          const docLinkHtml = 'Like what you see? Visit the ' +\n",
              "            '<a target=\"_blank\" href=https://colab.research.google.com/notebooks/data_table.ipynb>data table notebook</a>'\n",
              "            + ' to learn more about interactive tables.';\n",
              "          element.innerHTML = '';\n",
              "          dataTable['output_type'] = 'display_data';\n",
              "          await google.colab.output.renderOutput(dataTable, element);\n",
              "          const docLink = document.createElement('div');\n",
              "          docLink.innerHTML = docLinkHtml;\n",
              "          element.appendChild(docLink);\n",
              "        }\n",
              "      </script>\n",
              "    </div>\n",
              "  </div>\n",
              "  "
            ]
          },
          "metadata": {},
          "execution_count": 13
        }
      ],
      "source": [
        "joined_df.groupby('name').agg({\"price\": [\"sum\"]}) "
      ]
    },
    {
      "cell_type": "code",
      "execution_count": null,
      "metadata": {
        "id": "5_G10Df0alEU",
        "colab": {
          "base_uri": "https://localhost:8080/"
        },
        "outputId": "8f2bd8a6-2c5b-4c68-a971-da4a20abc9dd"
      },
      "outputs": [
        {
          "output_type": "stream",
          "name": "stdout",
          "text": [
            "+----+-----------------+\n",
            "|name|            total|\n",
            "+----+-----------------+\n",
            "| bob|             4.55|\n",
            "| rob|            13.99|\n",
            "| tim|8.940000000000001|\n",
            "| tom|            49.95|\n",
            "+----+-----------------+\n",
            "\n"
          ]
        }
      ],
      "source": [
        "import pyspark.sql.functions as f\n",
        "\n",
        "joinedDF.groupby('name').agg(f.sum('price').alias('total')).show()"
      ]
    },
    {
      "cell_type": "markdown",
      "metadata": {
        "id": "BkcbwAnBalEU"
      },
      "source": [
        "Let's use bigger data\n",
        "  * NYC crash data"
      ]
    },
    {
      "cell_type": "code",
      "execution_count": null,
      "metadata": {
        "id": "yWwRRRgbalEV",
        "colab": {
          "base_uri": "https://localhost:8080/"
        },
        "outputId": "8bd049c4-bcdd-4658-a19a-d1dcc1fe634f"
      },
      "outputs": [
        {
          "output_type": "stream",
          "name": "stdout",
          "text": [
            "  % Total    % Received % Xferd  Average Speed   Time    Time     Time  Current\n",
            "                                 Dload  Upload   Total   Spent    Left  Speed\n",
            "100  391M    0  391M    0     0  4238k      0 --:--:--  0:01:34 --:--:-- 4814k\n"
          ]
        }
      ],
      "source": [
        "# save to the filesystem to prevent another load\n",
        "! curl -o rows.csv https://data.cityofnewyork.us/api/views/h9gi-nx95/rows.csv"
      ]
    },
    {
      "cell_type": "code",
      "execution_count": null,
      "metadata": {
        "id": "SK3epwKcalEV",
        "colab": {
          "base_uri": "https://localhost:8080/",
          "height": 470
        },
        "outputId": "2f916cad-29bf-4a57-8f37-c54f55fc2e01"
      },
      "outputs": [
        {
          "output_type": "stream",
          "name": "stderr",
          "text": [
            "/usr/local/lib/python3.7/dist-packages/IPython/core/interactiveshell.py:2882: DtypeWarning: Columns (3) have mixed types.Specify dtype option on import or set low_memory=False.\n",
            "  exec(code_obj, self.user_global_ns, self.user_ns)\n"
          ]
        },
        {
          "output_type": "execute_result",
          "data": {
            "text/plain": [
              "   CRASH DATE CRASH TIME   BOROUGH ZIP CODE   LATITUDE  LONGITUDE  \\\n",
              "0  07/20/2022       1:25       NaN      NaN  40.835808  -73.89083   \n",
              "1  07/21/2022       5:20       NaN      NaN        NaN        NaN   \n",
              "2  04/14/2021       5:32       NaN      NaN        NaN        NaN   \n",
              "3  04/13/2021      21:35  BROOKLYN  11217.0  40.683580  -73.97617   \n",
              "4  04/15/2021      16:15       NaN      NaN        NaN        NaN   \n",
              "\n",
              "                 LOCATION            ON STREET NAME CROSS STREET NAME  \\\n",
              "0  (40.835808, -73.89083)               BOSTON ROAD               NaN   \n",
              "1                     NaN                 FDR DRIVE               NaN   \n",
              "2                     NaN   BRONX WHITESTONE BRIDGE               NaN   \n",
              "3   (40.68358, -73.97617)                       NaN               NaN   \n",
              "4                     NaN  HUTCHINSON RIVER PARKWAY               NaN   \n",
              "\n",
              "                            OFF STREET NAME  ...  \\\n",
              "0                                       NaN  ...   \n",
              "1                                       NaN  ...   \n",
              "2                                       NaN  ...   \n",
              "3  620       ATLANTIC AVENUE                 ...   \n",
              "4                                       NaN  ...   \n",
              "\n",
              "   CONTRIBUTING FACTOR VEHICLE 2  CONTRIBUTING FACTOR VEHICLE 3  \\\n",
              "0                    Unspecified                            NaN   \n",
              "1                    Unspecified                            NaN   \n",
              "2                    Unspecified                            NaN   \n",
              "3                            NaN                            NaN   \n",
              "4                            NaN                            NaN   \n",
              "\n",
              "   CONTRIBUTING FACTOR VEHICLE 4  CONTRIBUTING FACTOR VEHICLE 5  COLLISION_ID  \\\n",
              "0                            NaN                            NaN       4547589   \n",
              "1                            NaN                            NaN       4548075   \n",
              "2                            NaN                            NaN       4407480   \n",
              "3                            NaN                            NaN       4407147   \n",
              "4                            NaN                            NaN       4407665   \n",
              "\n",
              "                   VEHICLE TYPE CODE 1  VEHICLE TYPE CODE 2  \\\n",
              "0                                Sedan                Sedan   \n",
              "1                                Sedan                Sedan   \n",
              "2                                Sedan                Sedan   \n",
              "3                                Sedan                  NaN   \n",
              "4  Station Wagon/Sport Utility Vehicle                  NaN   \n",
              "\n",
              "   VEHICLE TYPE CODE 3 VEHICLE TYPE CODE 4 VEHICLE TYPE CODE 5  \n",
              "0                  NaN                 NaN                 NaN  \n",
              "1                  NaN                 NaN                 NaN  \n",
              "2                  NaN                 NaN                 NaN  \n",
              "3                  NaN                 NaN                 NaN  \n",
              "4                  NaN                 NaN                 NaN  \n",
              "\n",
              "[5 rows x 29 columns]"
            ],
            "text/html": [
              "\n",
              "  <div id=\"df-7d1d8714-9683-4514-a841-1a641cf06b0c\">\n",
              "    <div class=\"colab-df-container\">\n",
              "      <div>\n",
              "<style scoped>\n",
              "    .dataframe tbody tr th:only-of-type {\n",
              "        vertical-align: middle;\n",
              "    }\n",
              "\n",
              "    .dataframe tbody tr th {\n",
              "        vertical-align: top;\n",
              "    }\n",
              "\n",
              "    .dataframe thead th {\n",
              "        text-align: right;\n",
              "    }\n",
              "</style>\n",
              "<table border=\"1\" class=\"dataframe\">\n",
              "  <thead>\n",
              "    <tr style=\"text-align: right;\">\n",
              "      <th></th>\n",
              "      <th>CRASH DATE</th>\n",
              "      <th>CRASH TIME</th>\n",
              "      <th>BOROUGH</th>\n",
              "      <th>ZIP CODE</th>\n",
              "      <th>LATITUDE</th>\n",
              "      <th>LONGITUDE</th>\n",
              "      <th>LOCATION</th>\n",
              "      <th>ON STREET NAME</th>\n",
              "      <th>CROSS STREET NAME</th>\n",
              "      <th>OFF STREET NAME</th>\n",
              "      <th>...</th>\n",
              "      <th>CONTRIBUTING FACTOR VEHICLE 2</th>\n",
              "      <th>CONTRIBUTING FACTOR VEHICLE 3</th>\n",
              "      <th>CONTRIBUTING FACTOR VEHICLE 4</th>\n",
              "      <th>CONTRIBUTING FACTOR VEHICLE 5</th>\n",
              "      <th>COLLISION_ID</th>\n",
              "      <th>VEHICLE TYPE CODE 1</th>\n",
              "      <th>VEHICLE TYPE CODE 2</th>\n",
              "      <th>VEHICLE TYPE CODE 3</th>\n",
              "      <th>VEHICLE TYPE CODE 4</th>\n",
              "      <th>VEHICLE TYPE CODE 5</th>\n",
              "    </tr>\n",
              "  </thead>\n",
              "  <tbody>\n",
              "    <tr>\n",
              "      <th>0</th>\n",
              "      <td>07/20/2022</td>\n",
              "      <td>1:25</td>\n",
              "      <td>NaN</td>\n",
              "      <td>NaN</td>\n",
              "      <td>40.835808</td>\n",
              "      <td>-73.89083</td>\n",
              "      <td>(40.835808, -73.89083)</td>\n",
              "      <td>BOSTON ROAD</td>\n",
              "      <td>NaN</td>\n",
              "      <td>NaN</td>\n",
              "      <td>...</td>\n",
              "      <td>Unspecified</td>\n",
              "      <td>NaN</td>\n",
              "      <td>NaN</td>\n",
              "      <td>NaN</td>\n",
              "      <td>4547589</td>\n",
              "      <td>Sedan</td>\n",
              "      <td>Sedan</td>\n",
              "      <td>NaN</td>\n",
              "      <td>NaN</td>\n",
              "      <td>NaN</td>\n",
              "    </tr>\n",
              "    <tr>\n",
              "      <th>1</th>\n",
              "      <td>07/21/2022</td>\n",
              "      <td>5:20</td>\n",
              "      <td>NaN</td>\n",
              "      <td>NaN</td>\n",
              "      <td>NaN</td>\n",
              "      <td>NaN</td>\n",
              "      <td>NaN</td>\n",
              "      <td>FDR DRIVE</td>\n",
              "      <td>NaN</td>\n",
              "      <td>NaN</td>\n",
              "      <td>...</td>\n",
              "      <td>Unspecified</td>\n",
              "      <td>NaN</td>\n",
              "      <td>NaN</td>\n",
              "      <td>NaN</td>\n",
              "      <td>4548075</td>\n",
              "      <td>Sedan</td>\n",
              "      <td>Sedan</td>\n",
              "      <td>NaN</td>\n",
              "      <td>NaN</td>\n",
              "      <td>NaN</td>\n",
              "    </tr>\n",
              "    <tr>\n",
              "      <th>2</th>\n",
              "      <td>04/14/2021</td>\n",
              "      <td>5:32</td>\n",
              "      <td>NaN</td>\n",
              "      <td>NaN</td>\n",
              "      <td>NaN</td>\n",
              "      <td>NaN</td>\n",
              "      <td>NaN</td>\n",
              "      <td>BRONX WHITESTONE BRIDGE</td>\n",
              "      <td>NaN</td>\n",
              "      <td>NaN</td>\n",
              "      <td>...</td>\n",
              "      <td>Unspecified</td>\n",
              "      <td>NaN</td>\n",
              "      <td>NaN</td>\n",
              "      <td>NaN</td>\n",
              "      <td>4407480</td>\n",
              "      <td>Sedan</td>\n",
              "      <td>Sedan</td>\n",
              "      <td>NaN</td>\n",
              "      <td>NaN</td>\n",
              "      <td>NaN</td>\n",
              "    </tr>\n",
              "    <tr>\n",
              "      <th>3</th>\n",
              "      <td>04/13/2021</td>\n",
              "      <td>21:35</td>\n",
              "      <td>BROOKLYN</td>\n",
              "      <td>11217.0</td>\n",
              "      <td>40.683580</td>\n",
              "      <td>-73.97617</td>\n",
              "      <td>(40.68358, -73.97617)</td>\n",
              "      <td>NaN</td>\n",
              "      <td>NaN</td>\n",
              "      <td>620       ATLANTIC AVENUE</td>\n",
              "      <td>...</td>\n",
              "      <td>NaN</td>\n",
              "      <td>NaN</td>\n",
              "      <td>NaN</td>\n",
              "      <td>NaN</td>\n",
              "      <td>4407147</td>\n",
              "      <td>Sedan</td>\n",
              "      <td>NaN</td>\n",
              "      <td>NaN</td>\n",
              "      <td>NaN</td>\n",
              "      <td>NaN</td>\n",
              "    </tr>\n",
              "    <tr>\n",
              "      <th>4</th>\n",
              "      <td>04/15/2021</td>\n",
              "      <td>16:15</td>\n",
              "      <td>NaN</td>\n",
              "      <td>NaN</td>\n",
              "      <td>NaN</td>\n",
              "      <td>NaN</td>\n",
              "      <td>NaN</td>\n",
              "      <td>HUTCHINSON RIVER PARKWAY</td>\n",
              "      <td>NaN</td>\n",
              "      <td>NaN</td>\n",
              "      <td>...</td>\n",
              "      <td>NaN</td>\n",
              "      <td>NaN</td>\n",
              "      <td>NaN</td>\n",
              "      <td>NaN</td>\n",
              "      <td>4407665</td>\n",
              "      <td>Station Wagon/Sport Utility Vehicle</td>\n",
              "      <td>NaN</td>\n",
              "      <td>NaN</td>\n",
              "      <td>NaN</td>\n",
              "      <td>NaN</td>\n",
              "    </tr>\n",
              "  </tbody>\n",
              "</table>\n",
              "<p>5 rows × 29 columns</p>\n",
              "</div>\n",
              "      <button class=\"colab-df-convert\" onclick=\"convertToInteractive('df-7d1d8714-9683-4514-a841-1a641cf06b0c')\"\n",
              "              title=\"Convert this dataframe to an interactive table.\"\n",
              "              style=\"display:none;\">\n",
              "        \n",
              "  <svg xmlns=\"http://www.w3.org/2000/svg\" height=\"24px\"viewBox=\"0 0 24 24\"\n",
              "       width=\"24px\">\n",
              "    <path d=\"M0 0h24v24H0V0z\" fill=\"none\"/>\n",
              "    <path d=\"M18.56 5.44l.94 2.06.94-2.06 2.06-.94-2.06-.94-.94-2.06-.94 2.06-2.06.94zm-11 1L8.5 8.5l.94-2.06 2.06-.94-2.06-.94L8.5 2.5l-.94 2.06-2.06.94zm10 10l.94 2.06.94-2.06 2.06-.94-2.06-.94-.94-2.06-.94 2.06-2.06.94z\"/><path d=\"M17.41 7.96l-1.37-1.37c-.4-.4-.92-.59-1.43-.59-.52 0-1.04.2-1.43.59L10.3 9.45l-7.72 7.72c-.78.78-.78 2.05 0 2.83L4 21.41c.39.39.9.59 1.41.59.51 0 1.02-.2 1.41-.59l7.78-7.78 2.81-2.81c.8-.78.8-2.07 0-2.86zM5.41 20L4 18.59l7.72-7.72 1.47 1.35L5.41 20z\"/>\n",
              "  </svg>\n",
              "      </button>\n",
              "      \n",
              "  <style>\n",
              "    .colab-df-container {\n",
              "      display:flex;\n",
              "      flex-wrap:wrap;\n",
              "      gap: 12px;\n",
              "    }\n",
              "\n",
              "    .colab-df-convert {\n",
              "      background-color: #E8F0FE;\n",
              "      border: none;\n",
              "      border-radius: 50%;\n",
              "      cursor: pointer;\n",
              "      display: none;\n",
              "      fill: #1967D2;\n",
              "      height: 32px;\n",
              "      padding: 0 0 0 0;\n",
              "      width: 32px;\n",
              "    }\n",
              "\n",
              "    .colab-df-convert:hover {\n",
              "      background-color: #E2EBFA;\n",
              "      box-shadow: 0px 1px 2px rgba(60, 64, 67, 0.3), 0px 1px 3px 1px rgba(60, 64, 67, 0.15);\n",
              "      fill: #174EA6;\n",
              "    }\n",
              "\n",
              "    [theme=dark] .colab-df-convert {\n",
              "      background-color: #3B4455;\n",
              "      fill: #D2E3FC;\n",
              "    }\n",
              "\n",
              "    [theme=dark] .colab-df-convert:hover {\n",
              "      background-color: #434B5C;\n",
              "      box-shadow: 0px 1px 3px 1px rgba(0, 0, 0, 0.15);\n",
              "      filter: drop-shadow(0px 1px 2px rgba(0, 0, 0, 0.3));\n",
              "      fill: #FFFFFF;\n",
              "    }\n",
              "  </style>\n",
              "\n",
              "      <script>\n",
              "        const buttonEl =\n",
              "          document.querySelector('#df-7d1d8714-9683-4514-a841-1a641cf06b0c button.colab-df-convert');\n",
              "        buttonEl.style.display =\n",
              "          google.colab.kernel.accessAllowed ? 'block' : 'none';\n",
              "\n",
              "        async function convertToInteractive(key) {\n",
              "          const element = document.querySelector('#df-7d1d8714-9683-4514-a841-1a641cf06b0c');\n",
              "          const dataTable =\n",
              "            await google.colab.kernel.invokeFunction('convertToInteractive',\n",
              "                                                     [key], {});\n",
              "          if (!dataTable) return;\n",
              "\n",
              "          const docLinkHtml = 'Like what you see? Visit the ' +\n",
              "            '<a target=\"_blank\" href=https://colab.research.google.com/notebooks/data_table.ipynb>data table notebook</a>'\n",
              "            + ' to learn more about interactive tables.';\n",
              "          element.innerHTML = '';\n",
              "          dataTable['output_type'] = 'display_data';\n",
              "          await google.colab.output.renderOutput(dataTable, element);\n",
              "          const docLink = document.createElement('div');\n",
              "          docLink.innerHTML = docLinkHtml;\n",
              "          element.appendChild(docLink);\n",
              "        }\n",
              "      </script>\n",
              "    </div>\n",
              "  </div>\n",
              "  "
            ]
          },
          "metadata": {},
          "execution_count": 16
        }
      ],
      "source": [
        "import pandas as pd\n",
        "nyc_df = pd.read_csv('rows.csv')\n",
        "nyc_df.head()"
      ]
    },
    {
      "cell_type": "code",
      "execution_count": null,
      "metadata": {
        "id": "J9eicWk_alEW",
        "colab": {
          "base_uri": "https://localhost:8080/"
        },
        "outputId": "dbcdf17a-c09b-42ef-964b-f30eabe8efa0"
      },
      "outputs": [
        {
          "output_type": "stream",
          "name": "stdout",
          "text": [
            "1917681\n"
          ]
        }
      ],
      "source": [
        "# number or rows\n",
        "\n",
        "print(len(nyc_df))\n",
        "\n",
        "# this is quite large so we will work with a sample while we experiment in pandas as least."
      ]
    },
    {
      "cell_type": "markdown",
      "metadata": {
        "id": "3mVgaKTQalEW"
      },
      "source": [
        "We'll take a random sample at 20% of the original data"
      ]
    },
    {
      "cell_type": "code",
      "execution_count": null,
      "metadata": {
        "id": "8w966L8LalEX"
      },
      "outputs": [],
      "source": [
        "nyc_small = nyc_df.sample(frac=0.2, replace=False, random_state=1)"
      ]
    },
    {
      "cell_type": "code",
      "execution_count": null,
      "metadata": {
        "id": "cTH6gZIValEY"
      },
      "outputs": [],
      "source": [
        "# we are also going to limit the columns to those we are going to work with\n",
        "\n",
        "nyc_small = nyc_small[['CRASH DATE', 'CONTRIBUTING FACTOR VEHICLE 1', \n",
        "                       'BOROUGH', 'VEHICLE TYPE CODE 1', \n",
        "                       'NUMBER OF PERSONS INJURED']]"
      ]
    },
    {
      "cell_type": "code",
      "execution_count": null,
      "metadata": {
        "id": "feCjakT_alEY",
        "colab": {
          "base_uri": "https://localhost:8080/",
          "height": 112
        },
        "outputId": "572b3da7-357c-4f3d-9455-469b8f0b10c4"
      },
      "outputs": [
        {
          "output_type": "execute_result",
          "data": {
            "text/plain": [
              "        CRASH DATE   CONTRIBUTING FACTOR VEHICLE 1 BOROUGH  \\\n",
              "797894  09/05/2017  Driver Inattention/Distraction  QUEENS   \n",
              "461101  03/12/2019           Following Too Closely  QUEENS   \n",
              "\n",
              "                        VEHICLE TYPE CODE 1  NUMBER OF PERSONS INJURED  \n",
              "797894                                Sedan                        0.0  \n",
              "461101  Station Wagon/Sport Utility Vehicle                        0.0  "
            ],
            "text/html": [
              "\n",
              "  <div id=\"df-3a441614-5667-4984-b104-e1c119b59b05\">\n",
              "    <div class=\"colab-df-container\">\n",
              "      <div>\n",
              "<style scoped>\n",
              "    .dataframe tbody tr th:only-of-type {\n",
              "        vertical-align: middle;\n",
              "    }\n",
              "\n",
              "    .dataframe tbody tr th {\n",
              "        vertical-align: top;\n",
              "    }\n",
              "\n",
              "    .dataframe thead th {\n",
              "        text-align: right;\n",
              "    }\n",
              "</style>\n",
              "<table border=\"1\" class=\"dataframe\">\n",
              "  <thead>\n",
              "    <tr style=\"text-align: right;\">\n",
              "      <th></th>\n",
              "      <th>CRASH DATE</th>\n",
              "      <th>CONTRIBUTING FACTOR VEHICLE 1</th>\n",
              "      <th>BOROUGH</th>\n",
              "      <th>VEHICLE TYPE CODE 1</th>\n",
              "      <th>NUMBER OF PERSONS INJURED</th>\n",
              "    </tr>\n",
              "  </thead>\n",
              "  <tbody>\n",
              "    <tr>\n",
              "      <th>797894</th>\n",
              "      <td>09/05/2017</td>\n",
              "      <td>Driver Inattention/Distraction</td>\n",
              "      <td>QUEENS</td>\n",
              "      <td>Sedan</td>\n",
              "      <td>0.0</td>\n",
              "    </tr>\n",
              "    <tr>\n",
              "      <th>461101</th>\n",
              "      <td>03/12/2019</td>\n",
              "      <td>Following Too Closely</td>\n",
              "      <td>QUEENS</td>\n",
              "      <td>Station Wagon/Sport Utility Vehicle</td>\n",
              "      <td>0.0</td>\n",
              "    </tr>\n",
              "  </tbody>\n",
              "</table>\n",
              "</div>\n",
              "      <button class=\"colab-df-convert\" onclick=\"convertToInteractive('df-3a441614-5667-4984-b104-e1c119b59b05')\"\n",
              "              title=\"Convert this dataframe to an interactive table.\"\n",
              "              style=\"display:none;\">\n",
              "        \n",
              "  <svg xmlns=\"http://www.w3.org/2000/svg\" height=\"24px\"viewBox=\"0 0 24 24\"\n",
              "       width=\"24px\">\n",
              "    <path d=\"M0 0h24v24H0V0z\" fill=\"none\"/>\n",
              "    <path d=\"M18.56 5.44l.94 2.06.94-2.06 2.06-.94-2.06-.94-.94-2.06-.94 2.06-2.06.94zm-11 1L8.5 8.5l.94-2.06 2.06-.94-2.06-.94L8.5 2.5l-.94 2.06-2.06.94zm10 10l.94 2.06.94-2.06 2.06-.94-2.06-.94-.94-2.06-.94 2.06-2.06.94z\"/><path d=\"M17.41 7.96l-1.37-1.37c-.4-.4-.92-.59-1.43-.59-.52 0-1.04.2-1.43.59L10.3 9.45l-7.72 7.72c-.78.78-.78 2.05 0 2.83L4 21.41c.39.39.9.59 1.41.59.51 0 1.02-.2 1.41-.59l7.78-7.78 2.81-2.81c.8-.78.8-2.07 0-2.86zM5.41 20L4 18.59l7.72-7.72 1.47 1.35L5.41 20z\"/>\n",
              "  </svg>\n",
              "      </button>\n",
              "      \n",
              "  <style>\n",
              "    .colab-df-container {\n",
              "      display:flex;\n",
              "      flex-wrap:wrap;\n",
              "      gap: 12px;\n",
              "    }\n",
              "\n",
              "    .colab-df-convert {\n",
              "      background-color: #E8F0FE;\n",
              "      border: none;\n",
              "      border-radius: 50%;\n",
              "      cursor: pointer;\n",
              "      display: none;\n",
              "      fill: #1967D2;\n",
              "      height: 32px;\n",
              "      padding: 0 0 0 0;\n",
              "      width: 32px;\n",
              "    }\n",
              "\n",
              "    .colab-df-convert:hover {\n",
              "      background-color: #E2EBFA;\n",
              "      box-shadow: 0px 1px 2px rgba(60, 64, 67, 0.3), 0px 1px 3px 1px rgba(60, 64, 67, 0.15);\n",
              "      fill: #174EA6;\n",
              "    }\n",
              "\n",
              "    [theme=dark] .colab-df-convert {\n",
              "      background-color: #3B4455;\n",
              "      fill: #D2E3FC;\n",
              "    }\n",
              "\n",
              "    [theme=dark] .colab-df-convert:hover {\n",
              "      background-color: #434B5C;\n",
              "      box-shadow: 0px 1px 3px 1px rgba(0, 0, 0, 0.15);\n",
              "      filter: drop-shadow(0px 1px 2px rgba(0, 0, 0, 0.3));\n",
              "      fill: #FFFFFF;\n",
              "    }\n",
              "  </style>\n",
              "\n",
              "      <script>\n",
              "        const buttonEl =\n",
              "          document.querySelector('#df-3a441614-5667-4984-b104-e1c119b59b05 button.colab-df-convert');\n",
              "        buttonEl.style.display =\n",
              "          google.colab.kernel.accessAllowed ? 'block' : 'none';\n",
              "\n",
              "        async function convertToInteractive(key) {\n",
              "          const element = document.querySelector('#df-3a441614-5667-4984-b104-e1c119b59b05');\n",
              "          const dataTable =\n",
              "            await google.colab.kernel.invokeFunction('convertToInteractive',\n",
              "                                                     [key], {});\n",
              "          if (!dataTable) return;\n",
              "\n",
              "          const docLinkHtml = 'Like what you see? Visit the ' +\n",
              "            '<a target=\"_blank\" href=https://colab.research.google.com/notebooks/data_table.ipynb>data table notebook</a>'\n",
              "            + ' to learn more about interactive tables.';\n",
              "          element.innerHTML = '';\n",
              "          dataTable['output_type'] = 'display_data';\n",
              "          await google.colab.output.renderOutput(dataTable, element);\n",
              "          const docLink = document.createElement('div');\n",
              "          docLink.innerHTML = docLinkHtml;\n",
              "          element.appendChild(docLink);\n",
              "        }\n",
              "      </script>\n",
              "    </div>\n",
              "  </div>\n",
              "  "
            ]
          },
          "metadata": {},
          "execution_count": 20
        }
      ],
      "source": [
        "nyc_small.head(2)"
      ]
    },
    {
      "cell_type": "markdown",
      "metadata": {
        "id": "L7ZdLscsalEZ"
      },
      "source": [
        "Now, let's create the pyspark dataframe. Now we two frames with the same content\n",
        "  * nyc_small: pandas\n",
        "  * sdf_small: pyspark"
      ]
    },
    {
      "cell_type": "code",
      "execution_count": null,
      "metadata": {
        "id": "7O-gjOahalEZ",
        "colab": {
          "base_uri": "https://localhost:8080/"
        },
        "outputId": "709bd777-854a-4de5-92e6-375118b36756"
      },
      "outputs": [
        {
          "output_type": "stream",
          "name": "stderr",
          "text": [
            "/content/spark-3.2.2-bin-hadoop3.2/python/pyspark/sql/context.py:79: FutureWarning: Deprecated in 3.0.0. Use SparkSession.builder.getOrCreate() instead.\n",
            "  FutureWarning\n"
          ]
        },
        {
          "output_type": "stream",
          "name": "stdout",
          "text": [
            "StructType(List(StructField(CRASH DATE,StringType,true),StructField(CONTRIBUTING FACTOR VEHICLE 1,StringType,true),StructField(BOROUGH,StringType,true),StructField(VEHICLE TYPE CODE 1,StringType,true),StructField(NUMBER OF PERSONS INJURED,StringType,true)))\n"
          ]
        }
      ],
      "source": [
        "from pyspark.sql import SQLContext\n",
        "\n",
        "\n",
        "# there are nan's in the frame with strings, and spark can't 'infer the schema', so we have to help it out \n",
        "# by replacing them with empty strings and forcing the column to be a string\n",
        "\n",
        "sdf_small = SQLContext(spark).createDataFrame(nyc_small.fillna('').astype('str'))\n",
        "\n",
        "\n",
        "# Lets check the schema quickly\n",
        "\n",
        "print(sdf_small.schema)"
      ]
    },
    {
      "cell_type": "code",
      "source": [
        "sdf_small.show(2)"
      ],
      "metadata": {
        "colab": {
          "base_uri": "https://localhost:8080/"
        },
        "id": "i6D7vB9y2fob",
        "outputId": "e1cd40f4-a041-4a18-a48d-7b7082c670fe"
      },
      "execution_count": null,
      "outputs": [
        {
          "output_type": "stream",
          "name": "stdout",
          "text": [
            "+----------+-----------------------------+-------+--------------------+-------------------------+\n",
            "|CRASH DATE|CONTRIBUTING FACTOR VEHICLE 1|BOROUGH| VEHICLE TYPE CODE 1|NUMBER OF PERSONS INJURED|\n",
            "+----------+-----------------------------+-------+--------------------+-------------------------+\n",
            "|09/05/2017|         Driver Inattentio...| QUEENS|               Sedan|                      0.0|\n",
            "|03/12/2019|         Following Too Clo...| QUEENS|Station Wagon/Spo...|                      0.0|\n",
            "+----------+-----------------------------+-------+--------------------+-------------------------+\n",
            "only showing top 2 rows\n",
            "\n"
          ]
        }
      ]
    },
    {
      "cell_type": "code",
      "source": [
        "sql_small = nyc_small\n",
        "\n",
        "dict = {'CRASH DATE':'CRASH_DATE', \n",
        "        'CONTRIBUTING FACTOR VEHICLE 1' : 'CONTRIBUTING_FACTOR_VEHICLE_1' ,\n",
        "        'BOROUGH':'BOROUGH',\n",
        "        'VEHICLE TYPE CODE 1':'VEHICLE_TYPE_CODE_1',\n",
        "        'NUMBER OF PERSONS INJURED':'NUMBER_OF_PERSONS_INJURED'}\n",
        "\n",
        "sql_small.rename(columns=dict,\n",
        "          inplace=True)\n",
        "\n",
        "sql_small = SQLContext(spark).createDataFrame(sql_small.fillna('').astype('str'))\n",
        "\n",
        "sql_small.registerTempTable('data')"
      ],
      "metadata": {
        "colab": {
          "base_uri": "https://localhost:8080/"
        },
        "id": "ihNaYVnxwZjh",
        "outputId": "76fdaefa-a12c-417c-e1a5-f777e782ad42"
      },
      "execution_count": null,
      "outputs": [
        {
          "output_type": "stream",
          "name": "stderr",
          "text": [
            "/content/spark-3.2.2-bin-hadoop3.2/python/pyspark/sql/context.py:79: FutureWarning: Deprecated in 3.0.0. Use SparkSession.builder.getOrCreate() instead.\n",
            "  FutureWarning\n",
            "/content/spark-3.2.2-bin-hadoop3.2/python/pyspark/sql/dataframe.py:140: FutureWarning: Deprecated in 2.0, use createOrReplaceTempView instead.\n",
            "  FutureWarning\n"
          ]
        }
      ]
    },
    {
      "cell_type": "code",
      "source": [
        "sql_small.show(2)"
      ],
      "metadata": {
        "colab": {
          "base_uri": "https://localhost:8080/"
        },
        "id": "XKMrUMd-wrfq",
        "outputId": "cd06a085-c761-4cac-a0ee-7d0986bc66be"
      },
      "execution_count": null,
      "outputs": [
        {
          "output_type": "stream",
          "name": "stdout",
          "text": [
            "+----------+-----------------------------+-------+--------------------+-------------------------+\n",
            "|CRASH_DATE|CONTRIBUTING_FACTOR_VEHICLE_1|BOROUGH| VEHICLE_TYPE_CODE_1|NUMBER_OF_PERSONS_INJURED|\n",
            "+----------+-----------------------------+-------+--------------------+-------------------------+\n",
            "|09/05/2017|         Driver Inattentio...| QUEENS|               Sedan|                      0.0|\n",
            "|03/12/2019|         Following Too Clo...| QUEENS|Station Wagon/Spo...|                      0.0|\n",
            "+----------+-----------------------------+-------+--------------------+-------------------------+\n",
            "only showing top 2 rows\n",
            "\n"
          ]
        }
      ]
    },
    {
      "cell_type": "markdown",
      "metadata": {
        "id": "FY2RbVX9alEa"
      },
      "source": [
        "# Questions\n",
        "\n",
        "Answer the following questions by porting the pandas code to the Spark API\n"
      ]
    },
    {
      "cell_type": "markdown",
      "metadata": {
        "id": "8sZB7s8salEa"
      },
      "source": [
        "\n",
        "# Question 1\n",
        "\n",
        "\n",
        "> On what day do most crashes occcur?"
      ]
    },
    {
      "cell_type": "code",
      "execution_count": null,
      "metadata": {
        "id": "AJy_E6XvalEb",
        "colab": {
          "base_uri": "https://localhost:8080/"
        },
        "outputId": "2465cf38-3fec-49e7-feda-a293c1404d48"
      },
      "outputs": [
        {
          "output_type": "execute_result",
          "data": {
            "text/plain": [
              "CRASH_DATE\n",
              "01/21/2014    241\n",
              "11/15/2018    214\n",
              "12/15/2017    210\n",
              "05/19/2017    206\n",
              "03/06/2015    188\n",
              "Name: CRASH_DATE, dtype: int64"
            ]
          },
          "metadata": {},
          "execution_count": 27
        }
      ],
      "source": [
        "# Pandas\n",
        "nyc_small.groupby('CRASH_DATE')['CRASH_DATE'].count().sort_values(ascending=False).head(5)"
      ]
    },
    {
      "cell_type": "code",
      "source": [
        "# Spark API\n",
        "sdf_small.groupby('CRASH DATE').count().orderBy('count', ascending=False).show(5)"
      ],
      "metadata": {
        "colab": {
          "base_uri": "https://localhost:8080/"
        },
        "id": "mAPzj0baj2Ub",
        "outputId": "3d06157b-9505-41a9-89fd-472b8f447565"
      },
      "execution_count": null,
      "outputs": [
        {
          "output_type": "stream",
          "name": "stdout",
          "text": [
            "+----------+-----+\n",
            "|CRASH DATE|count|\n",
            "+----------+-----+\n",
            "|01/21/2014|  241|\n",
            "|11/15/2018|  214|\n",
            "|12/15/2017|  210|\n",
            "|05/19/2017|  206|\n",
            "|03/06/2015|  188|\n",
            "+----------+-----+\n",
            "only showing top 5 rows\n",
            "\n"
          ]
        }
      ]
    },
    {
      "cell_type": "code",
      "source": [
        "# Spark SQL\n",
        "\n",
        "spark.sql(\"\"\"\n",
        "      SELECT CRASH_DATE, count(*) as freq\n",
        "      FROM data\n",
        "      GROUP BY CRASH_DATE\n",
        "      ORDER BY 2 DESC LIMIT 5\"\"\").show()"
      ],
      "metadata": {
        "colab": {
          "base_uri": "https://localhost:8080/"
        },
        "id": "zcQE6Ao-ezcQ",
        "outputId": "9232da70-0a79-47a5-d803-8fc02d5f3b6d"
      },
      "execution_count": null,
      "outputs": [
        {
          "output_type": "stream",
          "name": "stdout",
          "text": [
            "+----------+----+\n",
            "|CRASH_DATE|freq|\n",
            "+----------+----+\n",
            "|01/21/2014| 241|\n",
            "|11/15/2018| 214|\n",
            "|12/15/2017| 210|\n",
            "|05/19/2017| 206|\n",
            "|03/06/2015| 188|\n",
            "+----------+----+\n",
            "\n"
          ]
        }
      ]
    },
    {
      "cell_type": "markdown",
      "metadata": {
        "id": "nvsemrjZalEb"
      },
      "source": [
        "# Question 2\n",
        "\n",
        "> _Where do most crashes occur?_"
      ]
    },
    {
      "cell_type": "code",
      "execution_count": null,
      "metadata": {
        "id": "-HIFnf9JalEc",
        "colab": {
          "base_uri": "https://localhost:8080/"
        },
        "outputId": "bb8c2817-4f91-4199-bfa6-50b672f41ff7"
      },
      "outputs": [
        {
          "output_type": "execute_result",
          "data": {
            "text/plain": [
              "BOROUGH\n",
              "BROOKLYN         83238\n",
              "QUEENS           71207\n",
              "MANHATTAN        60261\n",
              "BRONX            38811\n",
              "STATEN ISLAND    11121\n",
              "Name: BOROUGH, dtype: int64"
            ]
          },
          "metadata": {},
          "execution_count": 30
        }
      ],
      "source": [
        "# Pandas\n",
        "\n",
        "nyc_small.groupby('BOROUGH')['BOROUGH'].count().sort_values(ascending=False).head(5)"
      ]
    },
    {
      "cell_type": "code",
      "execution_count": null,
      "metadata": {
        "id": "RVmuXXaCalEc",
        "colab": {
          "base_uri": "https://localhost:8080/"
        },
        "outputId": "4ad9489d-4c6c-4993-d8ec-6a7981f32d46"
      },
      "outputs": [
        {
          "output_type": "stream",
          "name": "stdout",
          "text": [
            "+-------------+------+\n",
            "|      BOROUGH| count|\n",
            "+-------------+------+\n",
            "|             |118898|\n",
            "|     BROOKLYN| 83238|\n",
            "|       QUEENS| 71207|\n",
            "|    MANHATTAN| 60261|\n",
            "|        BRONX| 38811|\n",
            "|STATEN ISLAND| 11121|\n",
            "+-------------+------+\n",
            "\n"
          ]
        }
      ],
      "source": [
        "# Spark API\n",
        "\n",
        "sdf_small.groupby('BOROUGH').count().orderBy('count', ascending=False).show()"
      ]
    },
    {
      "cell_type": "code",
      "source": [
        "# Spark SQL\n",
        "\n",
        "spark.sql(\"\"\"\n",
        "      SELECT BOROUGH, count(*) as freq\n",
        "      FROM data\n",
        "      GROUP BY BOROUGH\n",
        "      ORDER BY 2 DESC\"\"\").show()\n"
      ],
      "metadata": {
        "colab": {
          "base_uri": "https://localhost:8080/"
        },
        "id": "x6OgjpHHmnIg",
        "outputId": "a6529975-ae6a-446e-c079-905c5bf7a233"
      },
      "execution_count": null,
      "outputs": [
        {
          "output_type": "stream",
          "name": "stdout",
          "text": [
            "+-------------+------+\n",
            "|      BOROUGH|  freq|\n",
            "+-------------+------+\n",
            "|             |118898|\n",
            "|     BROOKLYN| 83238|\n",
            "|       QUEENS| 71207|\n",
            "|    MANHATTAN| 60261|\n",
            "|        BRONX| 38811|\n",
            "|STATEN ISLAND| 11121|\n",
            "+-------------+------+\n",
            "\n"
          ]
        }
      ]
    },
    {
      "cell_type": "markdown",
      "metadata": {
        "id": "zqFnMJBqalEc"
      },
      "source": [
        " # Question 3\n",
        " \n",
        " > What is the most common cause of accident in 'QUEENS'"
      ]
    },
    {
      "cell_type": "code",
      "execution_count": null,
      "metadata": {
        "id": "7zoCCnS_alEc",
        "colab": {
          "base_uri": "https://localhost:8080/"
        },
        "outputId": "4906b3ac-4674-4225-d9a9-68e70de0f8ed"
      },
      "outputs": [
        {
          "output_type": "execute_result",
          "data": {
            "text/plain": [
              "CONTRIBUTING_FACTOR_VEHICLE_1\n",
              "Unspecified                       25864\n",
              "Driver Inattention/Distraction    14963\n",
              "Failure to Yield Right-of-Way      6015\n",
              "Backing Unsafely                   3546\n",
              "Following Too Closely              2479\n",
              "Name: CONTRIBUTING_FACTOR_VEHICLE_1, dtype: int64"
            ]
          },
          "metadata": {},
          "execution_count": 33
        }
      ],
      "source": [
        "# Pandas \n",
        "\n",
        "nyc_small[(nyc_small.BOROUGH == 'QUEENS')]['CONTRIBUTING_FACTOR_VEHICLE_1'].value_counts()\n",
        "\n",
        "# you can also use a group by (to avoid the pandas value_counts function)\n",
        "\n",
        "nyc_small[(nyc_small.BOROUGH == 'QUEENS')].groupby(\n",
        "    'CONTRIBUTING_FACTOR_VEHICLE_1'\n",
        ")['CONTRIBUTING_FACTOR_VEHICLE_1'].count().sort_values(ascending=False).head(5)"
      ]
    },
    {
      "cell_type": "code",
      "execution_count": null,
      "metadata": {
        "id": "tPDleLQaalEd",
        "colab": {
          "base_uri": "https://localhost:8080/"
        },
        "outputId": "41f747fe-650b-4b47-e2a3-0ba4761457cd"
      },
      "outputs": [
        {
          "output_type": "stream",
          "name": "stdout",
          "text": [
            "+-----------------------------+---------+\n",
            "|CONTRIBUTING FACTOR VEHICLE 1|frequency|\n",
            "+-----------------------------+---------+\n",
            "|                  Unspecified|    25864|\n",
            "|         Driver Inattentio...|    14963|\n",
            "|         Failure to Yield ...|     6015|\n",
            "|             Backing Unsafely|     3546|\n",
            "|         Following Too Clo...|     2479|\n",
            "|         Passing or Lane U...|     1816|\n",
            "|          Passing Too Closely|     1502|\n",
            "|           Turning Improperly|     1416|\n",
            "|         Traffic Control D...|     1399|\n",
            "|              Fatigued/Drowsy|     1217|\n",
            "+-----------------------------+---------+\n",
            "only showing top 10 rows\n",
            "\n"
          ]
        }
      ],
      "source": [
        "# Spark API\n",
        "\n",
        "sdf_small.filter(sdf_small.BOROUGH == 'QUEENS')\\\n",
        "                  .groupBy('CONTRIBUTING FACTOR VEHICLE 1')\\\n",
        "                  .agg(f.count(f.lit(1)).alias('frequency'))\\\n",
        "                  .orderBy('frequency', ascending=False).show(10)\n"
      ]
    },
    {
      "cell_type": "code",
      "source": [
        "# Spark SQL\n",
        "\n",
        "spark.sql(\"\"\"\n",
        "      SELECT CONTRIBUTING_FACTOR_VEHICLE_1, count(*) as freq\n",
        "      FROM data\n",
        "      WHERE BOROUGH = 'QUEENS'\n",
        "      GROUP BY CONTRIBUTING_FACTOR_VEHICLE_1\n",
        "      ORDER BY 2 DESC LIMIT 10\"\"\").show()"
      ],
      "metadata": {
        "colab": {
          "base_uri": "https://localhost:8080/"
        },
        "id": "XaaPZiNenAKB",
        "outputId": "97f68c02-b52f-4fd5-a511-89ce42e9c78e"
      },
      "execution_count": null,
      "outputs": [
        {
          "output_type": "stream",
          "name": "stdout",
          "text": [
            "+-----------------------------+-----+\n",
            "|CONTRIBUTING_FACTOR_VEHICLE_1| freq|\n",
            "+-----------------------------+-----+\n",
            "|                  Unspecified|25864|\n",
            "|         Driver Inattentio...|14963|\n",
            "|         Failure to Yield ...| 6015|\n",
            "|             Backing Unsafely| 3546|\n",
            "|         Following Too Clo...| 2479|\n",
            "|         Passing or Lane U...| 1816|\n",
            "|          Passing Too Closely| 1502|\n",
            "|           Turning Improperly| 1416|\n",
            "|         Traffic Control D...| 1399|\n",
            "|              Fatigued/Drowsy| 1217|\n",
            "+-----------------------------+-----+\n",
            "\n"
          ]
        }
      ]
    },
    {
      "cell_type": "markdown",
      "metadata": {
        "id": "MdLr4K-WalEd"
      },
      "source": [
        "# Question 4"
      ]
    },
    {
      "cell_type": "markdown",
      "metadata": {
        "id": "OmYoQhLEalEe"
      },
      "source": [
        "> _What is the average number or injuries for specific cars driving in specific suburbs_\n"
      ]
    },
    {
      "cell_type": "code",
      "execution_count": null,
      "metadata": {
        "id": "sA24IXmgalEe",
        "colab": {
          "base_uri": "https://localhost:8080/"
        },
        "outputId": "12b106d4-08bf-4f85-e565-10e6ab9b6316"
      },
      "outputs": [
        {
          "output_type": "execute_result",
          "data": {
            "text/plain": [
              "VEHICLE_TYPE_CODE_1  BOROUGH      \n",
              "MTA B                BROOKLYN         7.0\n",
              "CHEVY EXPR           QUEENS           3.0\n",
              "Van Camper           BROOKLYN         3.0\n",
              "comme                BRONX            2.5\n",
              "SELF                 MANHATTAN        2.0\n",
              "WAGON                STATEN ISLAND    2.0\n",
              "SEMI                 MANHATTAN        2.0\n",
              "usps                 BROOKLYN         2.0\n",
              "50cc Scoot           BROOKLYN         2.0\n",
              "VAN T                BRONX            2.0\n",
              "Name: NUMBER_OF_PERSONS_INJURED, dtype: float64"
            ]
          },
          "metadata": {},
          "execution_count": 36
        }
      ],
      "source": [
        "# Pandas \n",
        "\n",
        "nyc_small.groupby(['VEHICLE_TYPE_CODE_1', 'BOROUGH'])['NUMBER_OF_PERSONS_INJURED'].mean().sort_values(ascending=False).head(10)"
      ]
    },
    {
      "cell_type": "code",
      "execution_count": null,
      "metadata": {
        "id": "RMdMidLqalEe",
        "colab": {
          "base_uri": "https://localhost:8080/"
        },
        "outputId": "dcd5dd8d-b08c-4203-b3eb-9c0ee6b76782"
      },
      "outputs": [
        {
          "output_type": "stream",
          "name": "stdout",
          "text": [
            "+-------------------+-------------+----+\n",
            "|VEHICLE TYPE CODE 1|      BOROUGH|mean|\n",
            "+-------------------+-------------+----+\n",
            "|              MTA B|     BROOKLYN| 7.0|\n",
            "|         CHEVY EXPR|       QUEENS| 3.0|\n",
            "|         Van Camper|     BROOKLYN| 3.0|\n",
            "|              comme|        BRONX| 2.5|\n",
            "|              VAN T|        BRONX| 2.0|\n",
            "|               SEMI|    MANHATTAN| 2.0|\n",
            "|              MOTOR|     BROOKLYN| 2.0|\n",
            "|              WAGON|STATEN ISLAND| 2.0|\n",
            "|         School Bus|        BRONX| 2.0|\n",
            "|         Cement Tru|       QUEENS| 2.0|\n",
            "+-------------------+-------------+----+\n",
            "only showing top 10 rows\n",
            "\n"
          ]
        }
      ],
      "source": [
        "# Spark API\n",
        "\n",
        "sdf_small.filter((sdf_small.BOROUGH != '')).groupby('VEHICLE TYPE CODE 1', 'BOROUGH').agg(f.mean('NUMBER OF PERSONS INJURED').alias('mean')).orderBy('mean', ascending=False).show(10)"
      ]
    },
    {
      "cell_type": "code",
      "source": [
        "# Spark SQL\n",
        "\n",
        "spark.sql(\"\"\"\n",
        "      SELECT VEHICLE_TYPE_CODE_1, BOROUGH, \n",
        "      AVG(NUMBER_OF_PERSONS_INJURED) as mean\n",
        "      FROM data\n",
        "      WHERE BOROUGH != ''\n",
        "      GROUP BY VEHICLE_TYPE_CODE_1, BOROUGH\n",
        "      ORDER BY mean DESC LIMIT 10\"\"\").show()"
      ],
      "metadata": {
        "colab": {
          "base_uri": "https://localhost:8080/"
        },
        "id": "vb0ftwcQ2scz",
        "outputId": "7592010c-79e0-4ed0-cda3-1e25037e331e"
      },
      "execution_count": null,
      "outputs": [
        {
          "output_type": "stream",
          "name": "stdout",
          "text": [
            "+-------------------+---------+----+\n",
            "|VEHICLE_TYPE_CODE_1|  BOROUGH|mean|\n",
            "+-------------------+---------+----+\n",
            "|              MTA B| BROOKLYN| 7.0|\n",
            "|         Van Camper| BROOKLYN| 3.0|\n",
            "|         CHEVY EXPR|   QUEENS| 3.0|\n",
            "|              comme|    BRONX| 2.5|\n",
            "|         50cc Scoot| BROOKLYN| 2.0|\n",
            "|               SELF|MANHATTAN| 2.0|\n",
            "|              VAN T|    BRONX| 2.0|\n",
            "|              MOTOR| BROOKLYN| 2.0|\n",
            "|         Cement Tru|   QUEENS| 2.0|\n",
            "|         School Bus|    BRONX| 2.0|\n",
            "+-------------------+---------+----+\n",
            "\n"
          ]
        }
      ]
    },
    {
      "cell_type": "code",
      "source": [
        ""
      ],
      "metadata": {
        "id": "oI_uK-M7_Np3"
      },
      "execution_count": null,
      "outputs": []
    }
  ],
  "metadata": {
    "kernelspec": {
      "display_name": "Python 3",
      "language": "python",
      "name": "python3"
    },
    "language_info": {
      "codemirror_mode": {
        "name": "ipython",
        "version": 3
      },
      "file_extension": ".py",
      "mimetype": "text/x-python",
      "name": "python",
      "nbconvert_exporter": "python",
      "pygments_lexer": "ipython3",
      "version": "3.6.9"
    },
    "colab": {
      "name": "Simple-pandas-pyspark-agg.ipynb",
      "provenance": [],
      "collapsed_sections": []
    }
  },
  "nbformat": 4,
  "nbformat_minor": 0
}